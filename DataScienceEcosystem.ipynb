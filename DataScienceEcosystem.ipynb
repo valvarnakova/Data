{
 "cells": [
  {
   "cell_type": "markdown",
   "id": "a1c2cced-2348-4c28-8f0d-780f735b5090",
   "metadata": {},
   "source": [
    "# Data Science Tools and Ecosystem"
   ]
  },
  {
   "cell_type": "markdown",
   "id": "47752e94-d9d2-429d-ab54-a9be8f96008f",
   "metadata": {},
   "source": [
    "In this notebook, Data Science Tools and Ecosystem are summerized."
   ]
  },
  {
   "cell_type": "markdown",
   "id": "b4696f6e-a2cc-4875-90ce-a1b22f7c9a1b",
   "metadata": {},
   "source": [
    "Objectives:\n",
    "- List popular languages for Data Science\n",
    "- List popular libraries for Data Science \n",
    "- List popular tools for Data Science\n",
    "- Example of basic operations "
   ]
  },
  {
   "cell_type": "markdown",
   "id": "eb692062-a102-4cf6-b449-13653908a4de",
   "metadata": {},
   "source": [
    "Some of the popular languages that Data Scientists use are:\n",
    "1. Python\n",
    "1. R\n",
    "3. SQL"
   ]
  },
  {
   "cell_type": "markdown",
   "id": "c6121c94-dfcf-4b16-9fc9-07d6c22ccb9f",
   "metadata": {},
   "source": [
    "Some of the most commonly used libraries used by Data Scientists include:\n",
    "1. Pandas\n",
    "2. Numpy \n",
    "3. Scikit-learn"
   ]
  },
  {
   "cell_type": "markdown",
   "id": "16c28220-0246-4020-82e0-e8e3eb324c85",
   "metadata": {},
   "source": [
    "| Data Science Tools |\n",
    "|--------------------|\n",
    "| Jupyter Notebooks  |\n",
    "| RStudio            |\n",
    "| Python             |"
   ]
  },
  {
   "cell_type": "markdown",
   "id": "a7d06e44-d758-4a67-9df1-4314269b70b2",
   "metadata": {},
   "source": [
    "### Below are a few examples of evaluating arithmetic expressions in Python."
   ]
  },
  {
   "cell_type": "code",
   "execution_count": 3,
   "id": "9d77c951-2b12-4e60-afc2-43722d4a118b",
   "metadata": {},
   "outputs": [
    {
     "data": {
      "text/plain": [
       "17"
      ]
     },
     "execution_count": 3,
     "metadata": {},
     "output_type": "execute_result"
    }
   ],
   "source": [
    "(3*4)+5\n",
    "#This a simple arithmetic expression to multiply then add integers"
   ]
  },
  {
   "cell_type": "code",
   "execution_count": 4,
   "id": "f49c798f-8ea9-4926-bfb1-e39adc050b41",
   "metadata": {},
   "outputs": [
    {
     "data": {
      "text/plain": [
       "3.3333333333333335"
      ]
     },
     "execution_count": 4,
     "metadata": {},
     "output_type": "execute_result"
    }
   ],
   "source": [
    "200/60\n",
    "#This will convert 200 minutes to hours by dividing by 60"
   ]
  },
  {
   "cell_type": "markdown",
   "id": "96c935d3-0e48-4c18-88aa-7d54c2d68a88",
   "metadata": {},
   "source": [
    "## Author\n",
    "Valeriya Varnakova"
   ]
  },
  {
   "cell_type": "code",
   "execution_count": null,
   "id": "334e2655-adec-4ee7-b3ef-ea02bd41ee6f",
   "metadata": {},
   "outputs": [],
   "source": []
  }
 ],
 "metadata": {
  "kernelspec": {
   "display_name": "Python 3 (ipykernel)",
   "language": "python",
   "name": "python3"
  },
  "language_info": {
   "codemirror_mode": {
    "name": "ipython",
    "version": 3
   },
   "file_extension": ".py",
   "mimetype": "text/x-python",
   "name": "python",
   "nbconvert_exporter": "python",
   "pygments_lexer": "ipython3",
   "version": "3.12.2"
  }
 },
 "nbformat": 4,
 "nbformat_minor": 5
}
